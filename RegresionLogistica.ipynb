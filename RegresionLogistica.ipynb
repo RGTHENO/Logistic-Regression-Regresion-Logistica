{
  "nbformat": 4,
  "nbformat_minor": 0,
  "metadata": {
    "colab": {
      "name": "RegresionLogistica.ipynb",
      "provenance": [],
      "collapsed_sections": [],
      "authorship_tag": "ABX9TyOFdvwa3PeC3OyDG5OKp8t5",
      "include_colab_link": true
    },
    "kernelspec": {
      "name": "python3",
      "display_name": "Python 3"
    }
  },
  "cells": [
    {
      "cell_type": "markdown",
      "metadata": {
        "id": "view-in-github",
        "colab_type": "text"
      },
      "source": [
        "<a href=\"https://colab.research.google.com/github/RGTHENO/Logistic-Regression-Regresion-Logistica/blob/master/RegresionLogistica.ipynb\" target=\"_parent\"><img src=\"https://colab.research.google.com/assets/colab-badge.svg\" alt=\"Open In Colab\"/></a>"
      ]
    },
    {
      "cell_type": "code",
      "metadata": {
        "id": "w3KLuJOH1C1q",
        "colab_type": "code",
        "outputId": "781a5bc8-22ac-4fcf-f2bd-8fd006260213",
        "colab": {
          "base_uri": "https://localhost:8080/",
          "height": 34
        }
      },
      "source": [
        "import numpy as np\n",
        "import pandas as pd\n",
        "import matplotlib.pyplot as plt\n",
        "from google.colab import drive\n",
        "\n",
        "np.set_printoptions(suppress=True)\n",
        "DRIVE_PATH = './drive/My Drive/Colab Notebooks/TopIA/RegresionLogistica/'\n",
        "drive.mount('/content/drive') \n",
        " \n",
        "THRESHOLD_DIABETES = 0.75\n",
        "THRESHOLD_ENFCARD = 0.55\n",
        "\n",
        "THRESHOLD = THRESHOLD_DIABETES\n",
        "\n",
        "DATASET_NAME_DIABETES = 'diabetes.csv'\n",
        "DATASET_NAME_ENF_CARD = 'enfermedad_cardiaca.csv'\n",
        "\n",
        "#DATASET_NAME_DIABETES = DATASET_NAME_ENF_CARD "
      ],
      "execution_count": 83,
      "outputs": [
        {
          "output_type": "stream",
          "text": [
            "Drive already mounted at /content/drive; to attempt to forcibly remount, call drive.mount(\"/content/drive\", force_remount=True).\n"
          ],
          "name": "stdout"
        }
      ]
    },
    {
      "cell_type": "code",
      "metadata": {
        "id": "huBCNGatDVzG",
        "colab_type": "code",
        "colab": {}
      },
      "source": [
        " def readFiles(filename:str):\n",
        "\n",
        "  dataframe = pd.read_csv(filename, delim_whitespace=True) \n",
        "  matrix_data = dataframe.to_numpy() \n",
        "  \n",
        "  '''We are gonna assure that dtype of each element of matrix_data\n",
        "  to be float64, this way it will be better to work with normalized values'''\n",
        "  matrix_data = matrix_data.astype(np.float64) \n",
        "  \n",
        "  return matrix_data\n",
        "   \n"
      ],
      "execution_count": 0,
      "outputs": []
    },
    {
      "cell_type": "code",
      "metadata": {
        "id": "U-66L9Qrat7L",
        "colab_type": "code",
        "colab": {}
      },
      "source": [
        "matrix_data = readFiles(DRIVE_PATH+DATASET_NAME_DIABETES) "
      ],
      "execution_count": 0,
      "outputs": []
    },
    {
      "cell_type": "code",
      "metadata": {
        "id": "M4BBAqA74Vx8",
        "colab_type": "code",
        "colab": {}
      },
      "source": [
        "def normalizeData(matrix_data):\n",
        "\n",
        "  #calculate the 'mean' y 'stdeviation' of all rows per each Column'''  \n",
        "  #Normalize for all columns of the jth row, except last column (Y) that contains 0's,1's values\n",
        "  for col in range(matrix_data.shape[1] -1 ):\n",
        "\n",
        "      mean_row             =  np.mean(matrix_data[:,col]) \n",
        "      std_row              =  np.std(matrix_data[:, col] )\n",
        "      matrix_data[ :, col] =  ( matrix_data[:, col]-(mean_row) )/(std_row)\n",
        "  \n",
        "  return matrix_data"
      ],
      "execution_count": 0,
      "outputs": []
    },
    {
      "cell_type": "code",
      "metadata": {
        "id": "hgysBOUCzKd0",
        "colab_type": "code",
        "colab": {}
      },
      "source": [
        "def sigmoidalFunction(X, theta):\n",
        "  z = X.dot(theta) \n",
        "  g = 1.0/(1.0+np.exp(-z))\n",
        "  return g"
      ],
      "execution_count": 0,
      "outputs": []
    },
    {
      "cell_type": "code",
      "metadata": {
        "id": "-KopMR-eNwlr",
        "colab_type": "code",
        "colab": {}
      },
      "source": [
        "def computeCost( X , Y, theta ):\n",
        "\n",
        "  m_samples =  len(Y)\n",
        "  pred_Y    =  sigmoidalFunction(X,theta)  \n",
        "  J         =  (1/m_samples)*np.sum(-Y*np.log(pred_Y) - (1-Y)*np.log(1-pred_Y), axis=0)\n",
        "  return J"
      ],
      "execution_count": 0,
      "outputs": []
    },
    {
      "cell_type": "code",
      "metadata": {
        "id": "bbdsNvAQaNNm",
        "colab_type": "code",
        "colab": {}
      },
      "source": [
        "def computeGradient(X,Y,theta): \n",
        "  f =  sigmoidalFunction(X,theta) - Y  #  return a matrix of shape--> mx1 \n",
        "  return X.T.dot(f)                    # (nxm)dot(mx1) --> (nx1) 'cause theta is a vector (nx1)"
      ],
      "execution_count": 0,
      "outputs": []
    },
    {
      "cell_type": "code",
      "metadata": {
        "id": "BziYUa4LyWId",
        "colab_type": "code",
        "colab": {}
      },
      "source": [
        "def gradientDescent(X , Y , theta, n_iteration, l_rate ):\n",
        "\n",
        "  m_samples   = float( len(Y) )\n",
        "  cost_record = np.zeros(n_iteration)\n",
        "  \n",
        "  for i in range(n_iteration):\n",
        "\n",
        "      gradient       = computeGradient(X,Y,theta)\n",
        "      theta          = theta-(1/m_samples)*l_rate*gradient\n",
        "      cost_record[i] = computeCost(X, Y, theta)\n",
        "  \n",
        "  return theta, cost_record\n"
      ],
      "execution_count": 0,
      "outputs": []
    },
    {
      "cell_type": "code",
      "metadata": {
        "id": "FriPBCf_A0iU",
        "colab_type": "code",
        "colab": {}
      },
      "source": [
        "def distributionData( matrix_data):\n",
        "   \n",
        "    total_samples = matrix_data.shape[0]\n",
        "    n_class1      = int( np.sum( matrix_data[:,-1], axis=0) )\n",
        "    n_class0      = int( total_samples - n_class1)\n",
        "    p_class1      = round( n_class1/total_samples, 2) # Round to 2 decimals\n",
        "    p_class0      = 1-p_class1  \n",
        "\n",
        "    return n_class1, p_class1, n_class0, p_class0\n"
      ],
      "execution_count": 0,
      "outputs": []
    },
    {
      "cell_type": "code",
      "metadata": {
        "id": "GQ_uarfayZNl",
        "colab_type": "code",
        "colab": {}
      },
      "source": [
        "def createFolds(MATRIX_DATA, kfolds:int):\n",
        "  \n",
        "  n_class1, p_class1, n_class0, p_class0 = distributionData(MATRIX_DATA)\n",
        "  m_samples = MATRIX_DATA.shape[0]\n",
        "  \n",
        "  #Pertubate data before to agroup samples based on their respective classes\n",
        "  #'cause when we apply sort, these will arrive as they are\n",
        "  indices_perturbed = np.random.permutation(MATRIX_DATA.shape[0]) \n",
        "  MATRIX_DATA       = MATRIX_DATA[indices_perturbed]\n",
        "\n",
        "  #Rows of class0 will appear first, eventually class1 will appear\n",
        "  indexSorted_Y = np.argsort( MATRIX_DATA[:,-1] ); \n",
        "  MATRIX_DATA   = MATRIX_DATA[indexSorted_Y,:]\n",
        "\n",
        "  # array_split returns l% n sub-arrays of size l//n + 1 and the rest of size l//n\n",
        "  folds_class0 = np.array_split(MATRIX_DATA[0:n_class0], kfolds)\n",
        "  folds_class1 = np.array_split(MATRIX_DATA[n_class0:m_samples], kfolds)\n",
        "\n",
        "\n",
        "  #Here, doesnt matter to add more pertubation because always will be the same\n",
        "  #at the end of revisiting all the training samples\n",
        "  matrix_folds = []\n",
        "  for k in range (0, kfolds):\n",
        "    matrix_folds.append( np.vstack( (folds_class0[k], folds_class1[k] ) ) )\n",
        "\n",
        "  return matrix_folds \n",
        "    \n"
      ],
      "execution_count": 0,
      "outputs": []
    },
    {
      "cell_type": "code",
      "metadata": {
        "id": "XevcDkGmBBeH",
        "colab_type": "code",
        "colab": {}
      },
      "source": [
        "def computeAccuracy(X,Y,theta):\n",
        "\n",
        "  m_samples = Y.shape[0]\n",
        "\n",
        "  #We're going to get all probabilities returned from sigmoidFunction\n",
        "  Y_estimated = sigmoidalFunction(X,theta)\n",
        "  \n",
        "  #We'going to apply THRESHOLD to each probability to get 0's or 1's\n",
        "  Y_estimated = [ float( y_i > THRESHOLD ) for y_i in Y_estimated  ] \n",
        "\n",
        "  #Let's count how many much we'll get between Y_predicted and Y truth\n",
        "  n_match=0\n",
        "  for i in range(m_samples):\n",
        "      if(Y_estimated[i] == Y[i,0]): #Remember that Y is (m x 1) vector\n",
        "        n_match+=1\n",
        "\n",
        "  accuracy = n_match/m_samples\n",
        "  return accuracy"
      ],
      "execution_count": 0,
      "outputs": []
    },
    {
      "cell_type": "code",
      "metadata": {
        "id": "O0f8Xm66jFin",
        "colab_type": "code",
        "colab": {}
      },
      "source": [
        "def computeAccFolds( kfolds: [], list_theta  ):\n",
        "\n",
        "  '''OJO!!! :The folds will be taken as TEST DATA in the following order :fold0, fold1, fol2 '''\n",
        "  k = len(kfolds)   \n",
        "  accFolds = np.zeros( (k,1) ) # A vector (k x 1)\n",
        "\n",
        "  for i in range(0, k):\n",
        "        X_test_fold = kfolds[i]\n",
        "        Y_test_fold = X_test_fold[:,-1]\n",
        "\n",
        "        #It's very important to reshape as Y is a vector Vertical(mx1)\n",
        "        Y_test_fold = np.reshape(Y_test_fold, (Y_test_fold.shape[0] ,1) )\n",
        "\n",
        "        X_test_fold = X_test_fold[:,:-1]\n",
        "        \n",
        "        theta_i = list_theta[i]\n",
        "        accFolds[i,0] = computeAccuracy(X_test_fold, Y_test_fold, theta_i)\n",
        "\n",
        "  return np.mean(accFolds, axis=0)\n"
      ],
      "execution_count": 0,
      "outputs": []
    },
    {
      "cell_type": "code",
      "metadata": {
        "id": "Xjz8yARNQyZZ",
        "colab_type": "code",
        "colab": {}
      },
      "source": [
        "def computeGDFolds(kfolds:[], n_iteraciones, alpha):\n",
        "    \n",
        "    k = len(kfolds)\n",
        "\n",
        "    list_thetas      = []\n",
        "    list_costs       = []\n",
        "\n",
        "    for test_i in range( 0, k):\n",
        "\n",
        "         #Let's create an empty matrix to concatenate matrix to form a Matrix Train\n",
        "          folds_train = np.zeros( (0, len( kfolds[0][0]) ) ) # (0x9), where 9 is the number of features of DIABETES\n",
        "          \n",
        "          for train_i in range(0,k):\n",
        "              if( test_i != train_i):\n",
        "                folds_train = np.vstack((folds_train, kfolds[train_i]) )\n",
        "          \n",
        "          #Let's partition into X_train and Y_train\n",
        "          X_train = folds_train[:, :-1]\n",
        "          Y_train = folds_train[:, -1] \n",
        "\n",
        "          #It's very important to reshape as Y is a vector Vertical(mx1)\n",
        "          Y_train = np.reshape(Y_train, (Y_train.shape[0] ,1) )\n",
        "\n",
        "          theta =  np.zeros( ( X_train.shape[1], 1)) \n",
        "\n",
        "          theta, cost_tmp = gradientDescent(X_train, Y_train, theta, n_iteraciones,\n",
        "                                            alpha)  \n",
        "\n",
        "          list_thetas.append(theta)\n",
        "          list_costs.append(cost_tmp)\n",
        "\n",
        "    return list_thetas, list_costs"
      ],
      "execution_count": 0,
      "outputs": []
    },
    {
      "cell_type": "code",
      "metadata": {
        "id": "3AVIYpa9-kDZ",
        "colab_type": "code",
        "colab": {}
      },
      "source": [
        "def searchBestParameters(folds:[]):\n",
        "\n",
        "      iteration_list     = range(500, 4000, 500) #500, 1000, ..., 3500\n",
        "      learning_rate_list = [0.01, 0.05, 0.1, 0.2, 0.3, 0.4]\n",
        "      \n",
        "      #Matrix : Iteration vs Learning Rate\n",
        "      matrix_lr_it =  np.zeros((len(iteration_list ), len(learning_rate_list)) )\n",
        "\n",
        "      best_it= -1.0\n",
        "      best_lr=-1.0\n",
        "      \n",
        "      max_acc_folds = 0.00000\n",
        "\n",
        "      for i in range( 0, len(iteration_list) ):\n",
        "          for alpha in range( 0, len(learning_rate_list) ):\n",
        "          \n",
        "              list_theta, list_cost  = computeGDFolds( folds, iteration_list[i], learning_rate_list[alpha] )\n",
        "              matrix_lr_it[i, alpha] = computeAccFolds(folds, list_theta)\n",
        "\n",
        "              \n",
        "              if( matrix_lr_it[i, alpha] > max_acc_folds ):\n",
        "                  best_it = iteration_list[i]\n",
        "                  best_lr = learning_rate_list[alpha]\n",
        "                  max_acc_folds = matrix_lr_it[ i, alpha]\n",
        "              \n",
        "\n",
        "      dframe_MatrixBestParam  = pd.DataFrame(matrix_lr_it, \n",
        "                                             index= iteration_list,\n",
        "                                             columns= learning_rate_list)\n",
        "      \n",
        "      print(\"Max acuracy: \", max_acc_folds, \" cuando iteraciones :\", best_it,\n",
        "            \", alpha :\", best_lr)\n",
        "         \n",
        "      return dframe_MatrixBestParam\n",
        "      "
      ],
      "execution_count": 0,
      "outputs": []
    },
    {
      "cell_type": "code",
      "metadata": {
        "id": "HwdXEfLI45Od",
        "colab_type": "code",
        "colab": {}
      },
      "source": [
        "fileDIABETES = DRIVE_PATH+DATASET_NAME_DIABETES\n",
        "#fileENFCARD = DRIVE_PATH+DATASET_NAME_ENF_CARD\n",
        "\n",
        "matrix_data_diabetes = readFiles(fileDIABETES)  \n",
        "#matrix_data_enfcard  = readFiles(fileENFCARD)\n",
        "\n",
        "matrix_data_diabetes = normalizeData( matrix_data_diabetes)\n",
        "#matrix_data_diabetes = normalizeData( matrix_data_enfcard )\n",
        "\n",
        "k = 3\n",
        "kfolds_matrix_diabetes = createFolds(matrix_data_diabetes, k)\n",
        "#kfolds_matrix_enfcard = createFolds(matrix_data_enfcard, k)\n"
      ],
      "execution_count": 0,
      "outputs": []
    },
    {
      "cell_type": "code",
      "metadata": {
        "id": "n_eBoLkrBB4G",
        "colab_type": "code",
        "colab": {}
      },
      "source": [
        "#searchBestParameters(kfolds_matrix_enfcard)"
      ],
      "execution_count": 0,
      "outputs": []
    },
    {
      "cell_type": "code",
      "metadata": {
        "id": "ayl0kYetBB7M",
        "colab_type": "code",
        "colab": {}
      },
      "source": [
        ""
      ],
      "execution_count": 0,
      "outputs": []
    },
    {
      "cell_type": "code",
      "metadata": {
        "id": "NF5DcwX-5mHb",
        "colab_type": "code",
        "outputId": "3b5259ee-c119-4286-a379-5988b4f9108f",
        "colab": {
          "base_uri": "https://localhost:8080/",
          "height": 272
        }
      },
      "source": [
        "searchBestParameters(kfolds_matrix_diabetes)"
      ],
      "execution_count": 99,
      "outputs": [
        {
          "output_type": "stream",
          "text": [
            "Max acuracy:  0.7682216364983088  cuando iteraciones : 3500 , alpha : 0.01\n"
          ],
          "name": "stdout"
        },
        {
          "output_type": "execute_result",
          "data": {
            "text/html": [
              "<div>\n",
              "<style scoped>\n",
              "    .dataframe tbody tr th:only-of-type {\n",
              "        vertical-align: middle;\n",
              "    }\n",
              "\n",
              "    .dataframe tbody tr th {\n",
              "        vertical-align: top;\n",
              "    }\n",
              "\n",
              "    .dataframe thead th {\n",
              "        text-align: right;\n",
              "    }\n",
              "</style>\n",
              "<table border=\"1\" class=\"dataframe\">\n",
              "  <thead>\n",
              "    <tr style=\"text-align: right;\">\n",
              "      <th></th>\n",
              "      <th>0.01</th>\n",
              "      <th>0.05</th>\n",
              "      <th>0.10</th>\n",
              "      <th>0.20</th>\n",
              "      <th>0.30</th>\n",
              "      <th>0.40</th>\n",
              "    </tr>\n",
              "  </thead>\n",
              "  <tbody>\n",
              "    <tr>\n",
              "      <th>500</th>\n",
              "      <td>0.735654</td>\n",
              "      <td>0.765633</td>\n",
              "      <td>0.768211</td>\n",
              "      <td>0.768206</td>\n",
              "      <td>0.768206</td>\n",
              "      <td>0.768206</td>\n",
              "    </tr>\n",
              "    <tr>\n",
              "      <th>1000</th>\n",
              "      <td>0.759143</td>\n",
              "      <td>0.768211</td>\n",
              "      <td>0.768206</td>\n",
              "      <td>0.768206</td>\n",
              "      <td>0.768206</td>\n",
              "      <td>0.768206</td>\n",
              "    </tr>\n",
              "    <tr>\n",
              "      <th>1500</th>\n",
              "      <td>0.763039</td>\n",
              "      <td>0.766904</td>\n",
              "      <td>0.768206</td>\n",
              "      <td>0.768206</td>\n",
              "      <td>0.768206</td>\n",
              "      <td>0.768206</td>\n",
              "    </tr>\n",
              "    <tr>\n",
              "      <th>2000</th>\n",
              "      <td>0.763034</td>\n",
              "      <td>0.768206</td>\n",
              "      <td>0.768206</td>\n",
              "      <td>0.768206</td>\n",
              "      <td>0.768206</td>\n",
              "      <td>0.768206</td>\n",
              "    </tr>\n",
              "    <tr>\n",
              "      <th>2500</th>\n",
              "      <td>0.765633</td>\n",
              "      <td>0.768206</td>\n",
              "      <td>0.768206</td>\n",
              "      <td>0.768206</td>\n",
              "      <td>0.768206</td>\n",
              "      <td>0.768206</td>\n",
              "    </tr>\n",
              "    <tr>\n",
              "      <th>3000</th>\n",
              "      <td>0.765628</td>\n",
              "      <td>0.768206</td>\n",
              "      <td>0.768206</td>\n",
              "      <td>0.768206</td>\n",
              "      <td>0.768206</td>\n",
              "      <td>0.768206</td>\n",
              "    </tr>\n",
              "    <tr>\n",
              "      <th>3500</th>\n",
              "      <td>0.768222</td>\n",
              "      <td>0.768206</td>\n",
              "      <td>0.768206</td>\n",
              "      <td>0.768206</td>\n",
              "      <td>0.768206</td>\n",
              "      <td>0.768206</td>\n",
              "    </tr>\n",
              "  </tbody>\n",
              "</table>\n",
              "</div>"
            ],
            "text/plain": [
              "          0.01      0.05      0.10      0.20      0.30      0.40\n",
              "500   0.735654  0.765633  0.768211  0.768206  0.768206  0.768206\n",
              "1000  0.759143  0.768211  0.768206  0.768206  0.768206  0.768206\n",
              "1500  0.763039  0.766904  0.768206  0.768206  0.768206  0.768206\n",
              "2000  0.763034  0.768206  0.768206  0.768206  0.768206  0.768206\n",
              "2500  0.765633  0.768206  0.768206  0.768206  0.768206  0.768206\n",
              "3000  0.765628  0.768206  0.768206  0.768206  0.768206  0.768206\n",
              "3500  0.768222  0.768206  0.768206  0.768206  0.768206  0.768206"
            ]
          },
          "metadata": {
            "tags": []
          },
          "execution_count": 99
        }
      ]
    },
    {
      "cell_type": "code",
      "metadata": {
        "id": "eMQ3WAktaDC0",
        "colab_type": "code",
        "colab": {}
      },
      "source": [
        "def plotCostvsIter( cost_history: np.array, title_graph ):\n",
        "\n",
        "    fig,axis_fig = plt.subplots(figsize=(12,8)) \n",
        "    num_iteraciones = cost_history.shape[0]\n",
        "    scale = 1.0\n",
        "    axis_fig.set(xlim = [-10,num_iteraciones], ylim = (cost_history[-1]-0.058,cost_history[0]))\n",
        "    axis_fig.grid(True)\n",
        "    axis_fig.set_ylabel('J(Theta)')\n",
        "    axis_fig.set_xlabel('Iterations')\n",
        "    axis_fig.plot(range(num_iteraciones),cost_history,'b.')\n",
        "    plt.title(title_graph, {'fontsize':10})\n",
        "    plt.show()\n",
        "\n",
        "    fig.savefig(title_graph + \".jpg\")\n",
        "    from google.colab import files\n",
        "    files.download(title_graph + \".jpg\")"
      ],
      "execution_count": 0,
      "outputs": []
    },
    {
      "cell_type": "code",
      "metadata": {
        "id": "7vba8ZbxmgjE",
        "colab_type": "code",
        "colab": {}
      },
      "source": [
        "num_iteraciones = 1000\n",
        "lr = 0.4\n",
        "theta_diabetes, cost_diabetes = computeGDFolds(kfolds_matrix_diabetes, num_iteraciones, lr)\n",
        "#theta_enfcard, cost_enfcard = computeGDFolds(kfolds_matrix_enfcard, num_iteraciones, lr)"
      ],
      "execution_count": 0,
      "outputs": []
    },
    {
      "cell_type": "code",
      "metadata": {
        "id": "b_0-lQds8mA9",
        "colab_type": "code",
        "outputId": "154e0651-36b2-4765-8b4c-2b15fc5f2fde",
        "colab": {
          "base_uri": "https://localhost:8080/",
          "height": 1000
        }
      },
      "source": [
        "#DIABETES\n",
        "for i in range(0, k):\n",
        "    plotCostvsIter(cost_diabetes[i], \"DIABETES \")\n",
        "\n",
        "avgAccDiabetes = computeAccFolds(kfolds_matrix_diabetes, theta_diabetes)\n",
        "print(\"El promedio de las acuracias es :\",avgAccDiabetes )\n"
      ],
      "execution_count": 102,
      "outputs": [
        {
          "output_type": "display_data",
          "data": {
            "image/png": "[encoded data removed]",
            "text/plain": [
              "<Figure size 864x576 with 1 Axes>"
            ]
          },
          "metadata": {
            "tags": [],
            "needs_background": "light"
          }
        },
        {
          "output_type": "display_data",
          "data": {
            "image/png": "[encoded data removed]",
            "text/plain": [
              "<Figure size 864x576 with 1 Axes>"
            ]
          },
          "metadata": {
            "tags": [],
            "needs_background": "light"
          }
        },
        {
          "output_type": "display_data",
          "data": {
            "image/png": "[encoded data removed]",
            "text/plain": [
              "<Figure size 864x576 with 1 Axes>"
            ]
          },
          "metadata": {
            "tags": [],
            "needs_background": "light"
          }
        },
        {
          "output_type": "stream",
          "text": [
            "El promedio de las acuracias es : [0.76820636]\n"
          ],
          "name": "stdout"
        }
      ]
    },
    {
      "cell_type": "code",
      "metadata": {
        "id": "ak-VLPzELacs",
        "colab_type": "code",
        "colab": {}
      },
      "source": [
        ""
      ],
      "execution_count": 0,
      "outputs": []
    },
    {
      "cell_type": "code",
      "metadata": {
        "id": "b8DAORdRLawO",
        "colab_type": "code",
        "outputId": "c6a6326e-e2cf-49e5-9910-1f49992b5321",
        "colab": {
          "base_uri": "https://localhost:8080/",
          "height": 54
        }
      },
      "source": [
        "#ENFCARD\n",
        "'''\n",
        "for i in range(0, k):\n",
        "    plotCostvsIter(cost_diabetes[i], \"ENFCARD \")\n",
        "\n",
        "avgAccEnfCard = computeAccFolds(kfolds_matrix_enfcard, theta_enfcard)\n",
        "print(\"El promedio de las acuracias es :\",avgAccEnfCard )\n",
        "'''"
      ],
      "execution_count": 103,
      "outputs": [
        {
          "output_type": "execute_result",
          "data": {
            "text/plain": [
              "'\\nfor i in range(0, k):\\n    plotCostvsIter(cost_diabetes[i], \"ENFCARD \")\\n\\navgAccEnfCard = computeAccFolds(kfolds_matrix_enfcard, theta_enfcard)\\nprint(\"El promedio de las acuracias es :\",avgAccEnfCard )\\n'"
            ]
          },
          "metadata": {
            "tags": []
          },
          "execution_count": 103
        }
      ]
    }
  ]
}